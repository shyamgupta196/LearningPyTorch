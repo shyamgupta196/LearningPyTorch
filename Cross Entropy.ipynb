{
 "cells": [
  {
   "cell_type": "markdown",
   "metadata": {},
   "source": [
    "# #TorchDaily \n",
    "\n",
    "### Hi Today we will be learning about Cross Entropy\n"
   ]
  },
  {
   "cell_type": "markdown",
   "metadata": {},
   "source": [
    "<b style=\"text-align:center\">Cross-entropy is a measure of the difference between two probability distributions for a given random variable or set of events.</b>\n",
    "\n",
    "<p style=\"text-align: center;\">or</p>\n",
    "\n",
    "<b>Cross-Entropy: Average number of total bits to represent an event from Q instead of P.</b>"
   ]
  },
  {
   "cell_type": "markdown",
   "metadata": {},
   "source": [
    "its good if you get the def. but lets dive deep in to it"
   ]
  },
  {
   "cell_type": "markdown",
   "metadata": {},
   "source": [
    "As we have seen in the SMAF(softmax AF) NoteBook , The SMAF return the likely probability every entry in the array.\n",
    "\n",
    "So how CE realted to it ??\n",
    "\n",
    "Lets See the what is Entropy firstly\n",
    "\n",
    "<b>Entropy is the number of bits required to transmit a randomly selected event from a probability distribution. A skewed distribution has a low entropy, whereas a distribution where events have equal probability has a larger entropy.\n",
    "\n",
    "A skewed probability distribution has less “surprise” and in turn a low entropy because likely events dominate. Balanced distribution are more surprising and turn have higher entropy because events are equally likely.</b>\n",
    "\n"
   ]
  },
  {
   "attachments": {
    "dump.png": {
     "image/png": "[encoded data removed]"
    }
   },
   "cell_type": "markdown",
   "metadata": {},
   "source": [
    "have a look at its formula\n",
    "![dump.png](attachment:dump.png)\n",
    "\n"
   ]
  },
  {
   "cell_type": "markdown",
   "metadata": {},
   "source": [
    "<b>FORMULA INTERPRETATION</b>\n",
    "\n",
    "Where L(y_hat,y) is the cross-entropy function, y may be the target distribution and y_hat is the approximation of the target distribution(hence,we can write)\n",
    "\n",
    "yhat == 1-y \n",
    "\n",
    "the probability of the y_hat or the approximation distribution can be found using a ..............\n",
    "\n",
    "<b>SoftMax Activation Function</b> or anything for sake of finding probability  \n",
    "\n",
    "The SMAF can be used for calculating P(x)or y(i) similarly like we did for SMAF as SoftMax(array) which returned us probabilities of every no. in the array  "
   ]
  },
  {
   "cell_type": "markdown",
   "metadata": {},
   "source": [
    "which can then be expanded as"
   ]
  },
  {
   "attachments": {
    "Annotation%202021-01-14%20170103-2.png": {
     "image/png": "[encoded data removed]"
    }
   },
   "cell_type": "markdown",
   "metadata": {},
   "source": [
    "![Annotation%202021-01-14%20170103-2.png](attachment:Annotation%202021-01-14%20170103-2.png)"
   ]
  },
  {
   "cell_type": "markdown",
   "metadata": {},
   "source": [
    "and this will return bits as output after comparing y and y_hat \n",
    "\n",
    "* The Lower the bits the greater the accuracy or performance or goodness of the model \n",
    "\n",
    "\n",
    "* MSE is not considered much is we have CE loss as loss function , \n",
    "\n",
    "the reason being - 'This converges much faster than MSE'"
   ]
  },
  {
   "cell_type": "markdown",
   "metadata": {},
   "source": [
    "#### I really got caught up into some work today , can publish this short interpretation of CE only(codes can be found in the link below) \n",
    "#### i will try to come up with similar content daily \n",
    "\n",
    "### Thanks All for the support "
   ]
  },
  {
   "cell_type": "markdown",
   "metadata": {},
   "source": [
    "<b>Article i was able to refer and interpret</b>\n",
    "\n",
    "I used [https://machinelearningmastery.com/cross-entropy-for-machine-learning/ for learning about the CE loss \n",
    "\n",
    "you may dig in the whole article to explore more "
   ]
  },
  {
   "cell_type": "markdown",
   "metadata": {},
   "source": [
    "###### do let me know if you have any comment , concern, query regaurding  the post \n",
    "###### i will also try to update this NB with more knowledge \n",
    "\n",
    "Thanks for reading"
   ]
  }
 ],
 "metadata": {
  "kernelspec": {
   "display_name": "Python 3",
   "language": "python",
   "name": "python3"
  },
  "language_info": {
   "codemirror_mode": {
    "name": "ipython",
    "version": 3
   },
   "file_extension": ".py",
   "mimetype": "text/x-python",
   "name": "python",
   "nbconvert_exporter": "python",
   "pygments_lexer": "ipython3",
   "version": "3.8.3"
  }
 },
 "nbformat": 4,
 "nbformat_minor": 4
}
